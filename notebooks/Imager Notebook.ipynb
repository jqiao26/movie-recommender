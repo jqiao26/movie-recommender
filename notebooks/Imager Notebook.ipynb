{
 "cells": [
  {
   "cell_type": "code",
   "execution_count": 1,
   "metadata": {},
   "outputs": [],
   "source": [
    "import pandas as pd\n",
    "import os"
   ]
  },
  {
   "cell_type": "code",
   "execution_count": 2,
   "metadata": {},
   "outputs": [],
   "source": [
    "mdf = pd.read_csv('./mdf.csv')"
   ]
  },
  {
   "cell_type": "code",
   "execution_count": 3,
   "metadata": {},
   "outputs": [
    {
     "data": {
      "text/html": [
       "<div>\n",
       "<style scoped>\n",
       "    .dataframe tbody tr th:only-of-type {\n",
       "        vertical-align: middle;\n",
       "    }\n",
       "\n",
       "    .dataframe tbody tr th {\n",
       "        vertical-align: top;\n",
       "    }\n",
       "\n",
       "    .dataframe thead th {\n",
       "        text-align: right;\n",
       "    }\n",
       "</style>\n",
       "<table border=\"1\" class=\"dataframe\">\n",
       "  <thead>\n",
       "    <tr style=\"text-align: right;\">\n",
       "      <th></th>\n",
       "      <th>Unnamed: 0</th>\n",
       "      <th>movieId</th>\n",
       "      <th>title</th>\n",
       "      <th>genres</th>\n",
       "    </tr>\n",
       "  </thead>\n",
       "  <tbody>\n",
       "    <tr>\n",
       "      <th>0</th>\n",
       "      <td>0</td>\n",
       "      <td>1</td>\n",
       "      <td>Toy Story (1995)</td>\n",
       "      <td>Adventure|Animation|Children|Comedy|Fantasy</td>\n",
       "    </tr>\n",
       "    <tr>\n",
       "      <th>1</th>\n",
       "      <td>1</td>\n",
       "      <td>2</td>\n",
       "      <td>Jumanji (1995)</td>\n",
       "      <td>Adventure|Children|Fantasy</td>\n",
       "    </tr>\n",
       "    <tr>\n",
       "      <th>2</th>\n",
       "      <td>2</td>\n",
       "      <td>3</td>\n",
       "      <td>Grumpier Old Men (1995)</td>\n",
       "      <td>Comedy|Romance</td>\n",
       "    </tr>\n",
       "    <tr>\n",
       "      <th>3</th>\n",
       "      <td>3</td>\n",
       "      <td>4</td>\n",
       "      <td>Waiting to Exhale (1995)</td>\n",
       "      <td>Comedy|Drama|Romance</td>\n",
       "    </tr>\n",
       "    <tr>\n",
       "      <th>4</th>\n",
       "      <td>4</td>\n",
       "      <td>5</td>\n",
       "      <td>Father of the Bride Part II (1995)</td>\n",
       "      <td>Comedy</td>\n",
       "    </tr>\n",
       "    <tr>\n",
       "      <th>...</th>\n",
       "      <td>...</td>\n",
       "      <td>...</td>\n",
       "      <td>...</td>\n",
       "      <td>...</td>\n",
       "    </tr>\n",
       "    <tr>\n",
       "      <th>9737</th>\n",
       "      <td>9737</td>\n",
       "      <td>193581</td>\n",
       "      <td>Black Butler: Book of the Atlantic (2017)</td>\n",
       "      <td>Action|Animation|Comedy|Fantasy</td>\n",
       "    </tr>\n",
       "    <tr>\n",
       "      <th>9738</th>\n",
       "      <td>9738</td>\n",
       "      <td>193583</td>\n",
       "      <td>No Game No Life: Zero (2017)</td>\n",
       "      <td>Animation|Comedy|Fantasy</td>\n",
       "    </tr>\n",
       "    <tr>\n",
       "      <th>9739</th>\n",
       "      <td>9739</td>\n",
       "      <td>193585</td>\n",
       "      <td>Flint (2017)</td>\n",
       "      <td>Drama</td>\n",
       "    </tr>\n",
       "    <tr>\n",
       "      <th>9740</th>\n",
       "      <td>9740</td>\n",
       "      <td>193587</td>\n",
       "      <td>Bungo Stray Dogs: Dead Apple (2018)</td>\n",
       "      <td>Action|Animation</td>\n",
       "    </tr>\n",
       "    <tr>\n",
       "      <th>9741</th>\n",
       "      <td>9741</td>\n",
       "      <td>193609</td>\n",
       "      <td>Andrew Dice Clay: Dice Rules (1991)</td>\n",
       "      <td>Comedy</td>\n",
       "    </tr>\n",
       "  </tbody>\n",
       "</table>\n",
       "<p>9742 rows × 4 columns</p>\n",
       "</div>"
      ],
      "text/plain": [
       "      Unnamed: 0  movieId                                      title  \\\n",
       "0              0        1                           Toy Story (1995)   \n",
       "1              1        2                             Jumanji (1995)   \n",
       "2              2        3                    Grumpier Old Men (1995)   \n",
       "3              3        4                   Waiting to Exhale (1995)   \n",
       "4              4        5         Father of the Bride Part II (1995)   \n",
       "...          ...      ...                                        ...   \n",
       "9737        9737   193581  Black Butler: Book of the Atlantic (2017)   \n",
       "9738        9738   193583               No Game No Life: Zero (2017)   \n",
       "9739        9739   193585                               Flint (2017)   \n",
       "9740        9740   193587        Bungo Stray Dogs: Dead Apple (2018)   \n",
       "9741        9741   193609        Andrew Dice Clay: Dice Rules (1991)   \n",
       "\n",
       "                                           genres  \n",
       "0     Adventure|Animation|Children|Comedy|Fantasy  \n",
       "1                      Adventure|Children|Fantasy  \n",
       "2                                  Comedy|Romance  \n",
       "3                            Comedy|Drama|Romance  \n",
       "4                                          Comedy  \n",
       "...                                           ...  \n",
       "9737              Action|Animation|Comedy|Fantasy  \n",
       "9738                     Animation|Comedy|Fantasy  \n",
       "9739                                        Drama  \n",
       "9740                             Action|Animation  \n",
       "9741                                       Comedy  \n",
       "\n",
       "[9742 rows x 4 columns]"
      ]
     },
     "execution_count": 3,
     "metadata": {},
     "output_type": "execute_result"
    }
   ],
   "source": [
    "mdf"
   ]
  },
  {
   "cell_type": "code",
   "execution_count": 4,
   "metadata": {},
   "outputs": [],
   "source": [
    "google_api_key = os.environ['GOOGLE_API_KEY']\n",
    "google_engine_id = os.environ['GOOGLE_ENGINE_ID']"
   ]
  },
  {
   "cell_type": "code",
   "execution_count": 5,
   "metadata": {},
   "outputs": [],
   "source": [
    "from googleapiclient.discovery import build\n",
    "import re"
   ]
  },
  {
   "cell_type": "code",
   "execution_count": 6,
   "metadata": {},
   "outputs": [],
   "source": [
    "def _google_search(search, api_key=google_api_key, cse_id=google_engine_id):\n",
    "    '''\n",
    "    Searches a custom search engine for the movie\n",
    "    '''\n",
    "    service = build('customsearch', 'v1', developerKey=api_key)\n",
    "    res = service.cse().list(q=search, cx=cse_id, searchType='image', siteSearch='www.imdb.com').execute()\n",
    "    return res['items']\n",
    "\n",
    "def get_movie_poster(search):\n",
    "    '''\n",
    "    Gets the IMDb result and returns the movie poster image and IMDb link\n",
    "    '''\n",
    "    results = _google_search(search)\n",
    "\n",
    "    # Filter out brackets for search (The Prestige (2006) --> the prestige)\n",
    "    search = re.sub(r\"[\\(\\[].*?[\\)\\]]\", \"\", search)\n",
    "    search = search.lower()\n",
    "    for result in results:\n",
    "        title = result['title'].lower()\n",
    "        if search in title and ' - imdb' in title:\n",
    "            return result['link'], result['image']['contextLink']\n",
    "    return 'No link', 'No contextLink'"
   ]
  },
  {
   "cell_type": "code",
   "execution_count": 24,
   "metadata": {},
   "outputs": [
    {
     "name": "stdout",
     "output_type": "stream",
     "text": [
      "('https://m.media-amazon.com/images/M/MV5BMDU2ZWJlMjktMTRhMy00ZTA5LWEzNDgtYmNmZTEwZTViZWJkXkEyXkFqcGdeQXVyNDQ2OTk4MzI@._V1_.jpg', 'https://www.imdb.com/title/tt0114709/')\n"
     ]
    }
   ],
   "source": [
    "res = get_movie_poster('Toy Story')\n",
    "print(res)"
   ]
  },
  {
   "cell_type": "code",
   "execution_count": 4,
   "metadata": {},
   "outputs": [],
   "source": [
    "# links = pd.DataFrame(columns=['link', 'context'])\n",
    "links = pd.read_csv('links.csv')\n",
    "links_copy = pd.read_csv('links_copy.csv')"
   ]
  },
  {
   "cell_type": "code",
   "execution_count": 5,
   "metadata": {},
   "outputs": [
    {
     "data": {
      "text/html": [
       "<div>\n",
       "<style scoped>\n",
       "    .dataframe tbody tr th:only-of-type {\n",
       "        vertical-align: middle;\n",
       "    }\n",
       "\n",
       "    .dataframe tbody tr th {\n",
       "        vertical-align: top;\n",
       "    }\n",
       "\n",
       "    .dataframe thead th {\n",
       "        text-align: right;\n",
       "    }\n",
       "</style>\n",
       "<table border=\"1\" class=\"dataframe\">\n",
       "  <thead>\n",
       "    <tr style=\"text-align: right;\">\n",
       "      <th></th>\n",
       "      <th>Unnamed: 0</th>\n",
       "      <th>link</th>\n",
       "      <th>context</th>\n",
       "    </tr>\n",
       "  </thead>\n",
       "  <tbody>\n",
       "    <tr>\n",
       "      <th>0</th>\n",
       "      <td>0</td>\n",
       "      <td>https://m.media-amazon.com/images/M/MV5BMDU2ZW...</td>\n",
       "      <td>https://www.imdb.com/title/tt0114709/</td>\n",
       "    </tr>\n",
       "    <tr>\n",
       "      <th>1</th>\n",
       "      <td>1</td>\n",
       "      <td>https://m.media-amazon.com/images/M/MV5BZTk2Zm...</td>\n",
       "      <td>https://www.imdb.com/title/tt0113497/</td>\n",
       "    </tr>\n",
       "    <tr>\n",
       "      <th>2</th>\n",
       "      <td>2</td>\n",
       "      <td>https://m.media-amazon.com/images/M/MV5BMjQxM2...</td>\n",
       "      <td>https://www.imdb.com/title/tt0113228/</td>\n",
       "    </tr>\n",
       "    <tr>\n",
       "      <th>3</th>\n",
       "      <td>3</td>\n",
       "      <td>https://m.media-amazon.com/images/M/MV5BYzcyMD...</td>\n",
       "      <td>https://www.imdb.com/title/tt0114885/</td>\n",
       "    </tr>\n",
       "    <tr>\n",
       "      <th>4</th>\n",
       "      <td>4</td>\n",
       "      <td>https://m.media-amazon.com/images/M/MV5BOTEyNz...</td>\n",
       "      <td>https://www.imdb.com/title/tt0113041/</td>\n",
       "    </tr>\n",
       "    <tr>\n",
       "      <th>...</th>\n",
       "      <td>...</td>\n",
       "      <td>...</td>\n",
       "      <td>...</td>\n",
       "    </tr>\n",
       "    <tr>\n",
       "      <th>71</th>\n",
       "      <td>71</td>\n",
       "      <td>No link</td>\n",
       "      <td>No contextLink</td>\n",
       "    </tr>\n",
       "    <tr>\n",
       "      <th>72</th>\n",
       "      <td>72</td>\n",
       "      <td>No link</td>\n",
       "      <td>No contextLink</td>\n",
       "    </tr>\n",
       "    <tr>\n",
       "      <th>73</th>\n",
       "      <td>73</td>\n",
       "      <td>https://m.media-amazon.com/images/M/MV5BMzI0OW...</td>\n",
       "      <td>https://www.imdb.com/title/tt0114660/</td>\n",
       "    </tr>\n",
       "    <tr>\n",
       "      <th>74</th>\n",
       "      <td>74</td>\n",
       "      <td>No link</td>\n",
       "      <td>No contextLink</td>\n",
       "    </tr>\n",
       "    <tr>\n",
       "      <th>75</th>\n",
       "      <td>75</td>\n",
       "      <td>https://m.media-amazon.com/images/M/MV5BY2VmOW...</td>\n",
       "      <td>https://www.imdb.com/title/tt0114039/</td>\n",
       "    </tr>\n",
       "  </tbody>\n",
       "</table>\n",
       "<p>76 rows × 3 columns</p>\n",
       "</div>"
      ],
      "text/plain": [
       "    Unnamed: 0                                               link  \\\n",
       "0            0  https://m.media-amazon.com/images/M/MV5BMDU2ZW...   \n",
       "1            1  https://m.media-amazon.com/images/M/MV5BZTk2Zm...   \n",
       "2            2  https://m.media-amazon.com/images/M/MV5BMjQxM2...   \n",
       "3            3  https://m.media-amazon.com/images/M/MV5BYzcyMD...   \n",
       "4            4  https://m.media-amazon.com/images/M/MV5BOTEyNz...   \n",
       "..         ...                                                ...   \n",
       "71          71                                            No link   \n",
       "72          72                                            No link   \n",
       "73          73  https://m.media-amazon.com/images/M/MV5BMzI0OW...   \n",
       "74          74                                            No link   \n",
       "75          75  https://m.media-amazon.com/images/M/MV5BY2VmOW...   \n",
       "\n",
       "                                  context  \n",
       "0   https://www.imdb.com/title/tt0114709/  \n",
       "1   https://www.imdb.com/title/tt0113497/  \n",
       "2   https://www.imdb.com/title/tt0113228/  \n",
       "3   https://www.imdb.com/title/tt0114885/  \n",
       "4   https://www.imdb.com/title/tt0113041/  \n",
       "..                                    ...  \n",
       "71                         No contextLink  \n",
       "72                         No contextLink  \n",
       "73  https://www.imdb.com/title/tt0114660/  \n",
       "74                         No contextLink  \n",
       "75  https://www.imdb.com/title/tt0114039/  \n",
       "\n",
       "[76 rows x 3 columns]"
      ]
     },
     "execution_count": 5,
     "metadata": {},
     "output_type": "execute_result"
    }
   ],
   "source": [
    "links"
   ]
  },
  {
   "cell_type": "code",
   "execution_count": 6,
   "metadata": {},
   "outputs": [],
   "source": [
    "# links_copy = links.copy()\n",
    "del links_copy['Unnamed: 0']"
   ]
  },
  {
   "cell_type": "code",
   "execution_count": 7,
   "metadata": {},
   "outputs": [
    {
     "data": {
      "text/html": [
       "<div>\n",
       "<style scoped>\n",
       "    .dataframe tbody tr th:only-of-type {\n",
       "        vertical-align: middle;\n",
       "    }\n",
       "\n",
       "    .dataframe tbody tr th {\n",
       "        vertical-align: top;\n",
       "    }\n",
       "\n",
       "    .dataframe thead th {\n",
       "        text-align: right;\n",
       "    }\n",
       "</style>\n",
       "<table border=\"1\" class=\"dataframe\">\n",
       "  <thead>\n",
       "    <tr style=\"text-align: right;\">\n",
       "      <th></th>\n",
       "      <th>link</th>\n",
       "    </tr>\n",
       "  </thead>\n",
       "  <tbody>\n",
       "    <tr>\n",
       "      <th>0</th>\n",
       "      <td>https://m.media-amazon.com/images/M/MV5BMDU2ZW...</td>\n",
       "    </tr>\n",
       "    <tr>\n",
       "      <th>1</th>\n",
       "      <td>https://m.media-amazon.com/images/M/MV5BZTk2Zm...</td>\n",
       "    </tr>\n",
       "    <tr>\n",
       "      <th>2</th>\n",
       "      <td>https://m.media-amazon.com/images/M/MV5BMjQxM2...</td>\n",
       "    </tr>\n",
       "    <tr>\n",
       "      <th>3</th>\n",
       "      <td>https://m.media-amazon.com/images/M/MV5BYzcyMD...</td>\n",
       "    </tr>\n",
       "    <tr>\n",
       "      <th>4</th>\n",
       "      <td>https://m.media-amazon.com/images/M/MV5BOTEyNz...</td>\n",
       "    </tr>\n",
       "    <tr>\n",
       "      <th>...</th>\n",
       "      <td>...</td>\n",
       "    </tr>\n",
       "    <tr>\n",
       "      <th>9736</th>\n",
       "      <td>No link</td>\n",
       "    </tr>\n",
       "    <tr>\n",
       "      <th>9737</th>\n",
       "      <td>https://upload.wikimedia.org/wikipedia/en/thum...</td>\n",
       "    </tr>\n",
       "    <tr>\n",
       "      <th>9738</th>\n",
       "      <td>https://upload.wikimedia.org/wikipedia/en/thum...</td>\n",
       "    </tr>\n",
       "    <tr>\n",
       "      <th>9739</th>\n",
       "      <td>https://upload.wikimedia.org/wikipedia/commons...</td>\n",
       "    </tr>\n",
       "    <tr>\n",
       "      <th>9740</th>\n",
       "      <td>https://upload.wikimedia.org/wikipedia/en/thum...</td>\n",
       "    </tr>\n",
       "  </tbody>\n",
       "</table>\n",
       "<p>9741 rows × 1 columns</p>\n",
       "</div>"
      ],
      "text/plain": [
       "                                                   link\n",
       "0     https://m.media-amazon.com/images/M/MV5BMDU2ZW...\n",
       "1     https://m.media-amazon.com/images/M/MV5BZTk2Zm...\n",
       "2     https://m.media-amazon.com/images/M/MV5BMjQxM2...\n",
       "3     https://m.media-amazon.com/images/M/MV5BYzcyMD...\n",
       "4     https://m.media-amazon.com/images/M/MV5BOTEyNz...\n",
       "...                                                 ...\n",
       "9736                                            No link\n",
       "9737  https://upload.wikimedia.org/wikipedia/en/thum...\n",
       "9738  https://upload.wikimedia.org/wikipedia/en/thum...\n",
       "9739  https://upload.wikimedia.org/wikipedia/commons...\n",
       "9740  https://upload.wikimedia.org/wikipedia/en/thum...\n",
       "\n",
       "[9741 rows x 1 columns]"
      ]
     },
     "execution_count": 7,
     "metadata": {},
     "output_type": "execute_result"
    }
   ],
   "source": [
    "links_copy"
   ]
  },
  {
   "cell_type": "code",
   "execution_count": 17,
   "metadata": {},
   "outputs": [],
   "source": [
    "import requests\n",
    "import json\n",
    "import re\n",
    "\n",
    "def get_wiki_image(search_term):\n",
    "    search_term = re.sub(r\"[\\(\\[].*?[\\)\\]]\", \"\", search_term)\n",
    "    if ', The' in search_term:\n",
    "        search_term = 'The ' + search_term[:len(search_term) - 6] + ' '\n",
    "    try:\n",
    "        WIKI_REQUEST = f'https://en.wikipedia.org/api/rest_v1/page/media-list/{search_term}/0'\n",
    "        response  = requests.get(WIKI_REQUEST)\n",
    "        json_data = json.loads(response.text)\n",
    "        if len(json_data['items']) == 0 or ('srcset' not in json_data['items'][0].keys()):\n",
    "            try:\n",
    "                search_term = search_term + '(film)'\n",
    "                WIKI_REQUEST = f'https://en.wikipedia.org/api/rest_v1/page/media-list/{search_term}/0'\n",
    "                response  = requests.get(WIKI_REQUEST)\n",
    "                json_data = json.loads(response.text)\n",
    "                return 'https:' + json_data['items'][0]['srcset'][0]['src']\n",
    "            except:\n",
    "                return 'No link'\n",
    "        else:\n",
    "            return 'https:' + json_data['items'][0]['srcset'][0]['src']\n",
    "    except:\n",
    "        return 'No link'"
   ]
  },
  {
   "cell_type": "code",
   "execution_count": 247,
   "metadata": {},
   "outputs": [
    {
     "data": {
      "text/html": [
       "<div>\n",
       "<style scoped>\n",
       "    .dataframe tbody tr th:only-of-type {\n",
       "        vertical-align: middle;\n",
       "    }\n",
       "\n",
       "    .dataframe tbody tr th {\n",
       "        vertical-align: top;\n",
       "    }\n",
       "\n",
       "    .dataframe thead th {\n",
       "        text-align: right;\n",
       "    }\n",
       "</style>\n",
       "<table border=\"1\" class=\"dataframe\">\n",
       "  <thead>\n",
       "    <tr style=\"text-align: right;\">\n",
       "      <th></th>\n",
       "      <th>link</th>\n",
       "    </tr>\n",
       "  </thead>\n",
       "  <tbody>\n",
       "    <tr>\n",
       "      <th>0</th>\n",
       "      <td>https://m.media-amazon.com/images/M/MV5BMDU2ZW...</td>\n",
       "    </tr>\n",
       "    <tr>\n",
       "      <th>1</th>\n",
       "      <td>https://m.media-amazon.com/images/M/MV5BZTk2Zm...</td>\n",
       "    </tr>\n",
       "    <tr>\n",
       "      <th>2</th>\n",
       "      <td>https://m.media-amazon.com/images/M/MV5BMjQxM2...</td>\n",
       "    </tr>\n",
       "    <tr>\n",
       "      <th>3</th>\n",
       "      <td>https://m.media-amazon.com/images/M/MV5BYzcyMD...</td>\n",
       "    </tr>\n",
       "    <tr>\n",
       "      <th>4</th>\n",
       "      <td>https://m.media-amazon.com/images/M/MV5BOTEyNz...</td>\n",
       "    </tr>\n",
       "    <tr>\n",
       "      <th>...</th>\n",
       "      <td>...</td>\n",
       "    </tr>\n",
       "    <tr>\n",
       "      <th>9736</th>\n",
       "      <td>No link</td>\n",
       "    </tr>\n",
       "    <tr>\n",
       "      <th>9737</th>\n",
       "      <td>https://upload.wikimedia.org/wikipedia/en/thum...</td>\n",
       "    </tr>\n",
       "    <tr>\n",
       "      <th>9738</th>\n",
       "      <td>https://upload.wikimedia.org/wikipedia/en/thum...</td>\n",
       "    </tr>\n",
       "    <tr>\n",
       "      <th>9739</th>\n",
       "      <td>https://upload.wikimedia.org/wikipedia/commons...</td>\n",
       "    </tr>\n",
       "    <tr>\n",
       "      <th>9740</th>\n",
       "      <td>https://upload.wikimedia.org/wikipedia/en/thum...</td>\n",
       "    </tr>\n",
       "  </tbody>\n",
       "</table>\n",
       "<p>9741 rows × 1 columns</p>\n",
       "</div>"
      ],
      "text/plain": [
       "                                                   link\n",
       "0     https://m.media-amazon.com/images/M/MV5BMDU2ZW...\n",
       "1     https://m.media-amazon.com/images/M/MV5BZTk2Zm...\n",
       "2     https://m.media-amazon.com/images/M/MV5BMjQxM2...\n",
       "3     https://m.media-amazon.com/images/M/MV5BYzcyMD...\n",
       "4     https://m.media-amazon.com/images/M/MV5BOTEyNz...\n",
       "...                                                 ...\n",
       "9736                                            No link\n",
       "9737  https://upload.wikimedia.org/wikipedia/en/thum...\n",
       "9738  https://upload.wikimedia.org/wikipedia/en/thum...\n",
       "9739  https://upload.wikimedia.org/wikipedia/commons...\n",
       "9740  https://upload.wikimedia.org/wikipedia/en/thum...\n",
       "\n",
       "[9741 rows x 1 columns]"
      ]
     },
     "execution_count": 247,
     "metadata": {},
     "output_type": "execute_result"
    }
   ],
   "source": [
    "for i in range(9000, 9741):\n",
    "    link = get_wiki_image(mdf['title'][i])\n",
    "    links_copy.loc[i] = [link]\n",
    "links_copy"
   ]
  },
  {
   "cell_type": "code",
   "execution_count": 243,
   "metadata": {},
   "outputs": [
    {
     "data": {
      "text/plain": [
       "'Inside Out (2015)'"
      ]
     },
     "execution_count": 243,
     "metadata": {},
     "output_type": "execute_result"
    }
   ],
   "source": [
    "mdf['title'][8900]"
   ]
  },
  {
   "cell_type": "code",
   "execution_count": 46,
   "metadata": {},
   "outputs": [
    {
     "data": {
      "text/plain": [
       "'https://upload.wikimedia.org/wikipedia/en/thumb/4/49/Snow_White_1937_poster.png/220px-Snow_White_1937_poster.png'"
      ]
     },
     "execution_count": 46,
     "metadata": {},
     "output_type": "execute_result"
    }
   ],
   "source": [
    "links_copy['link'][511]"
   ]
  },
  {
   "cell_type": "code",
   "execution_count": 210,
   "metadata": {},
   "outputs": [],
   "source": [
    "# for i in range(76, 90):\n",
    "#     link, context_link = get_movie_poster(mdf['title'][i])\n",
    "#     links.loc[i] = [link] + [context_link]\n",
    "# links"
   ]
  },
  {
   "cell_type": "code",
   "execution_count": 293,
   "metadata": {},
   "outputs": [
    {
     "data": {
      "text/plain": [
       "No link                                                                                                                                              2100\n",
       "https://upload.wikimedia.org/wikipedia/en/thumb/0/03/The_Up_series_DVD.jpg/250px-The_Up_series_DVD.jpg                                                  6\n",
       "https://upload.wikimedia.org/wikipedia/commons/thumb/c/ce/Plutchik-wheel.svg/640px-Plutchik-wheel.svg.png                                               6\n",
       "https://upload.wikimedia.org/wikipedia/commons/thumb/6/6a/Edwin_Booth_Hamlet_1870.jpg/320px-Edwin_Booth_Hamlet_1870.jpg                                 5\n",
       "https://upload.wikimedia.org/wikipedia/commons/thumb/c/c6/Panamanian_Brothers_%288627444206%29.jpg/640px-Panamanian_Brothers_%288627444206%29.jpg       4\n",
       "                                                                                                                                                     ... \n",
       "https://upload.wikimedia.org/wikipedia/en/thumb/8/8f/The_Last_Dragon_%281985%29.jpg/215px-The_Last_Dragon_%281985%29.jpg                                1\n",
       "https://upload.wikimedia.org/wikipedia/en/thumb/b/bf/Standoff_%282016_film%29.jpg/220px-Standoff_%282016_film%29.jpg                                    1\n",
       "https://upload.wikimedia.org/wikipedia/en/thumb/5/58/The_Day_After_Tomorrow_movie.jpg/220px-The_Day_After_Tomorrow_movie.jpg                            1\n",
       "https://upload.wikimedia.org/wikipedia/en/8/85/Blandings1948.jpg                                                                                        1\n",
       "https://upload.wikimedia.org/wikipedia/en/1/18/Scenes_from_the_class_struggle_in_beverly_hills.jpg                                                      1\n",
       "Name: link, Length: 7413, dtype: int64"
      ]
     },
     "execution_count": 293,
     "metadata": {},
     "output_type": "execute_result"
    }
   ],
   "source": [
    "links_copy['link'].value_counts()"
   ]
  },
  {
   "cell_type": "code",
   "execution_count": 47,
   "metadata": {},
   "outputs": [],
   "source": [
    "links_copy.to_csv('links_copy.csv')"
   ]
  },
  {
   "cell_type": "code",
   "execution_count": 29,
   "metadata": {},
   "outputs": [
    {
     "data": {
      "text/html": [
       "<div>\n",
       "<style scoped>\n",
       "    .dataframe tbody tr th:only-of-type {\n",
       "        vertical-align: middle;\n",
       "    }\n",
       "\n",
       "    .dataframe tbody tr th {\n",
       "        vertical-align: top;\n",
       "    }\n",
       "\n",
       "    .dataframe thead th {\n",
       "        text-align: right;\n",
       "    }\n",
       "</style>\n",
       "<table border=\"1\" class=\"dataframe\">\n",
       "  <thead>\n",
       "    <tr style=\"text-align: right;\">\n",
       "      <th></th>\n",
       "      <th>Unnamed: 0</th>\n",
       "      <th>movieId</th>\n",
       "      <th>title</th>\n",
       "      <th>genres</th>\n",
       "    </tr>\n",
       "  </thead>\n",
       "  <tbody>\n",
       "    <tr>\n",
       "      <th>8466</th>\n",
       "      <td>8466</td>\n",
       "      <td>112552</td>\n",
       "      <td>Whiplash (2014)</td>\n",
       "      <td>Drama</td>\n",
       "    </tr>\n",
       "    <tr>\n",
       "      <th>9426</th>\n",
       "      <td>9426</td>\n",
       "      <td>166024</td>\n",
       "      <td>Whiplash (2013)</td>\n",
       "      <td>(no genres listed)</td>\n",
       "    </tr>\n",
       "  </tbody>\n",
       "</table>\n",
       "</div>"
      ],
      "text/plain": [
       "      Unnamed: 0  movieId            title              genres\n",
       "8466        8466   112552  Whiplash (2014)               Drama\n",
       "9426        9426   166024  Whiplash (2013)  (no genres listed)"
      ]
     },
     "execution_count": 29,
     "metadata": {},
     "output_type": "execute_result"
    }
   ],
   "source": [
    "movie_list = mdf[mdf['title'].str.contains('(?i)whiplash')]\n",
    "movie_list"
   ]
  },
  {
   "cell_type": "code",
   "execution_count": 30,
   "metadata": {},
   "outputs": [
    {
     "data": {
      "text/plain": [
       "'Whiplash (2014)'"
      ]
     },
     "execution_count": 30,
     "metadata": {},
     "output_type": "execute_result"
    }
   ],
   "source": [
    "movie_list.iloc[0]['title']"
   ]
  },
  {
   "cell_type": "code",
   "execution_count": 33,
   "metadata": {},
   "outputs": [],
   "source": [
    "ind = mdf.loc[mdf['title'] == movie_list.iloc[0]['title']].index[0]"
   ]
  },
  {
   "cell_type": "code",
   "execution_count": 34,
   "metadata": {},
   "outputs": [
    {
     "data": {
      "text/plain": [
       "8466"
      ]
     },
     "execution_count": 34,
     "metadata": {},
     "output_type": "execute_result"
    }
   ],
   "source": [
    "ind"
   ]
  },
  {
   "cell_type": "code",
   "execution_count": null,
   "metadata": {},
   "outputs": [],
   "source": []
  }
 ],
 "metadata": {
  "kernelspec": {
   "display_name": "Python 3",
   "language": "python",
   "name": "python3"
  },
  "language_info": {
   "codemirror_mode": {
    "name": "ipython",
    "version": 3
   },
   "file_extension": ".py",
   "mimetype": "text/x-python",
   "name": "python",
   "nbconvert_exporter": "python",
   "pygments_lexer": "ipython3",
   "version": "3.6.9"
  }
 },
 "nbformat": 4,
 "nbformat_minor": 2
}
